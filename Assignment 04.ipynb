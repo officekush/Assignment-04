{
 "cells": [
  {
   "cell_type": "code",
   "execution_count": 3,
   "id": "671c73f7-1302-46a0-bf60-90eb5e6def8d",
   "metadata": {},
   "outputs": [
    {
     "name": "stdout",
     "output_type": "stream",
     "text": [
      "[('Virat Kohli', 24936), ('Jack Kallis', 25534), ('Ricky Ponting', 27483), ('Sachin Tendulkar', 34357)]\n"
     ]
    }
   ],
   "source": [
    "#ans 1\n",
    " \n",
    "l=[('Sachin Tendulkar', 34357), ('Ricky Ponting', 27483), ('Jack Kallis', 25534), ('Virat Kohli', 24936)]\n",
    "sorted_data = sorted(l,key=lambda x: x[1])\n",
    "print (sorted_data)\n"
   ]
  },
  {
   "cell_type": "code",
   "execution_count": 5,
   "id": "6eb2d625-e81a-439c-b919-ecc0ebf66362",
   "metadata": {},
   "outputs": [
    {
     "name": "stdout",
     "output_type": "stream",
     "text": [
      "[1, 4, 9, 16, 25, 36, 49, 64, 81, 100]\n"
     ]
    }
   ],
   "source": [
    "#ans 2\n",
    "# Define the list of integers\n",
    "data= [1, 2, 3, 4, 5, 6, 7, 8, 9, 10]\n",
    "\n",
    "# Use map with a lambda function to find squares\n",
    "result = list(map(lambda x: x**2, data))\n",
    "\n",
    "# Print the list of squares\n",
    "print(result)\n"
   ]
  },
  {
   "cell_type": "code",
   "execution_count": 7,
   "id": "a3f3037d-43a0-4a99-a691-150301b38d3e",
   "metadata": {},
   "outputs": [
    {
     "name": "stdout",
     "output_type": "stream",
     "text": [
      "('1', '2', '3', '4', '5', '6', '7', '8', '9', '10')\n"
     ]
    }
   ],
   "source": [
    "# ans 3 \n",
    "numbers = [1, 2, 3, 4, 5, 6, 7, 8, 9, 10]\n",
    "strings_tuple = tuple(map(lambda x: str(x), numbers))\n",
    "print(strings_tuple)\n"
   ]
  },
  {
   "cell_type": "code",
   "execution_count": 8,
   "id": "30940ccd-95e1-4945-a184-c555091cbc74",
   "metadata": {},
   "outputs": [
    {
     "name": "stdout",
     "output_type": "stream",
     "text": [
      "15511210043330985984000000\n"
     ]
    }
   ],
   "source": [
    "#ans 4\n",
    "from functools import reduce\n",
    "import operator\n",
    "\n",
    "numbers = list(range(1, 26))\n",
    "product = reduce(operator.mul, numbers)\n",
    "print(product)\n"
   ]
  },
  {
   "cell_type": "code",
   "execution_count": 9,
   "id": "b5daa1e3-7edc-45ad-b498-a927e6aac668",
   "metadata": {},
   "outputs": [
    {
     "name": "stdout",
     "output_type": "stream",
     "text": [
      "[6, 60, 90, 120]\n"
     ]
    }
   ],
   "source": [
    "#ans 5\n",
    "numbers = [2, 3, 6, 9, 27, 60, 90, 120, 55, 46]\n",
    "filtered_numbers = list(filter(lambda x: x % 2 == 0 and x % 3 == 0, numbers))\n",
    "print(filtered_numbers)\n"
   ]
  },
  {
   "cell_type": "code",
   "execution_count": null,
   "id": "916d127b-beca-4ed6-9b40-b76bc13115b7",
   "metadata": {},
   "outputs": [],
   "source": [
    "#ans 6\n"
   ]
  }
 ],
 "metadata": {
  "kernelspec": {
   "display_name": "Python 3 (ipykernel)",
   "language": "python",
   "name": "python3"
  },
  "language_info": {
   "codemirror_mode": {
    "name": "ipython",
    "version": 3
   },
   "file_extension": ".py",
   "mimetype": "text/x-python",
   "name": "python",
   "nbconvert_exporter": "python",
   "pygments_lexer": "ipython3",
   "version": "3.10.8"
  }
 },
 "nbformat": 4,
 "nbformat_minor": 5
}
